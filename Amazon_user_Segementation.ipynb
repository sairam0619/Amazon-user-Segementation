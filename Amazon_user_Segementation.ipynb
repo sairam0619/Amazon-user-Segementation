{
  "nbformat": 4,
  "nbformat_minor": 0,
  "metadata": {
    "colab": {
      "provenance": [],
      "authorship_tag": "ABX9TyOM8y3Zr7a215AfeUspAqd0",
      "include_colab_link": true
    },
    "kernelspec": {
      "name": "python3",
      "display_name": "Python 3"
    },
    "language_info": {
      "name": "python"
    }
  },
  "cells": [
    {
      "cell_type": "markdown",
      "metadata": {
        "id": "view-in-github",
        "colab_type": "text"
      },
      "source": [
        "<a href=\"https://colab.research.google.com/github/sairam0619/Amazon-user-Segementation/blob/main/Amazon_user_Segementation.ipynb\" target=\"_parent\"><img src=\"https://colab.research.google.com/assets/colab-badge.svg\" alt=\"Open In Colab\"/></a>"
      ]
    },
    {
      "cell_type": "markdown",
      "source": [
        "# Importing libraries"
      ],
      "metadata": {
        "id": "Cynkzz9Zfcg8"
      }
    },
    {
      "cell_type": "code",
      "execution_count": 1,
      "metadata": {
        "id": "BCofpTpza-Cz"
      },
      "outputs": [],
      "source": [
        "import numpy as np\n",
        "import matplotlib.pyplot as plt\n",
        "import pandas as pd"
      ]
    },
    {
      "cell_type": "markdown",
      "source": [
        "# importing data set"
      ],
      "metadata": {
        "id": "6ew8_evdbA8i"
      }
    },
    {
      "cell_type": "code",
      "source": [
        "dataset = pd.read_csv('Amazon user Segementation.csv')\n",
        "X = dataset.iloc[:, [2, 4]].values"
      ],
      "metadata": {
        "id": "sDLiMkCgjXkK"
      },
      "execution_count": 2,
      "outputs": []
    },
    {
      "cell_type": "code",
      "source": [
        "print(X)"
      ],
      "metadata": {
        "colab": {
          "base_uri": "https://localhost:8080/"
        },
        "id": "e-Cs-MWAjbo0",
        "outputId": "d7cbc1d5-1a8c-4130-846f-30a2ccba3ec6"
      },
      "execution_count": 3,
      "outputs": [
        {
          "output_type": "stream",
          "name": "stdout",
          "text": [
            "[[ 42  40]\n",
            " [ 30  82]\n",
            " [ 56   6]\n",
            " [ 38  82]\n",
            " [ 65  16]\n",
            " [ 35  92]\n",
            " [ 54  36]\n",
            " [ 42  69]\n",
            " [ 48  35]\n",
            " [ 28  98]\n",
            " [ 72   5]\n",
            " [ 26  82]\n",
            " [ 64   5]\n",
            " [ 22 104]\n",
            " [ 59  16]\n",
            " [ 26  91]\n",
            " [ 51  20]\n",
            " [ 36  82]\n",
            " [ 44  30]\n",
            " [ 24  84]\n",
            " [ 78  40]\n",
            " [ 29 104]\n",
            " [ 58  41]\n",
            " [ 38  69]\n",
            " [ 59  32]\n",
            " [ 29  73]\n",
            " [ 60  62]\n",
            " [ 33  53]\n",
            " [ 35  48]\n",
            " [ 38  48]\n",
            " [ 59  59]\n",
            " [ 40  68]\n",
            " [ 38  61]\n",
            " [ 71  68]\n",
            " [ 60  51]\n",
            " [ 57  46]\n",
            " [ 62  56]\n",
            " [ 83  52]\n",
            " [ 33  58]\n",
            " [ 64  52]\n",
            " [ 84  63]\n",
            " [ 23  62]\n",
            " [ 81  59]\n",
            " [ 65  67]\n",
            " [ 76  58]\n",
            " [ 22  67]\n",
            " [ 52  56]\n",
            " [ 82  54]\n",
            " [ 23  67]\n",
            " [ 39  53]\n",
            " [ 84  62]\n",
            " [ 57  48]\n",
            " [ 72  55]\n",
            " [ 72  63]\n",
            " [ 71  53]\n",
            " [ 32  61]\n",
            " [ 54  60]\n",
            " [ 48  54]\n",
            " [ 28  59]\n",
            " [ 59  48]\n",
            " [ 69  58]\n",
            " [ 46  62]\n",
            " [ 81  46]\n",
            " [ 56  50]\n",
            " [ 26  64]\n",
            " [ 58  52]\n",
            " [ 66  65]\n",
            " [ 27  62]\n",
            " [ 41  68]\n",
            " [ 60  52]\n",
            " [ 82  62]\n",
            " [ 22  46]\n",
            " [ 58  55]\n",
            " [ 48  45]\n",
            " [ 39  48]\n",
            " [ 29  59]\n",
            " [ 57  53]\n",
            " [ 33  56]\n",
            " [ 58  48]\n",
            " [ 24  55]\n",
            " [ 28  46]\n",
            " [ 59  54]\n",
            " [ 81  67]\n",
            " [ 32  62]\n",
            " [ 59  63]\n",
            " [ 26  48]\n",
            " [ 80  56]\n",
            " [ 65  52]\n",
            " [ 82  49]\n",
            " [ 80  54]\n",
            " [ 78  59]\n",
            " [ 23  61]\n",
            " [ 46  48]\n",
            " [ 23  52]\n",
            " [ 22  54]\n",
            " [ 23  56]\n",
            " [ 76  49]\n",
            " [ 59  67]\n",
            " [ 62  49]\n",
            " [ 60  64]\n",
            " [ 33  63]\n",
            " [ 46  45]\n",
            " [ 48  65]\n",
            " [ 47 102]\n",
            " [ 28  33]\n",
            " [ 38  87]\n",
            " [ 52  40]\n",
            " [ 48 107]\n",
            " [ 71  13]\n",
            " [ 46  84]\n",
            " [ 57  11]\n",
            " [ 47  84]\n",
            " [ 30  39]\n",
            " [ 38  80]\n",
            " [ 24   6]\n",
            " [ 35  99]\n",
            " [ 53   8]\n",
            " [ 39  82]\n",
            " [ 23  12]\n",
            " [ 42  81]\n",
            " [ 69   6]\n",
            " [ 39 105]\n",
            " [ 34  45]\n",
            " [ 39  98]\n",
            " [ 30  14]\n",
            " [ 34 109]\n",
            " [ 58  41]\n",
            " [ 39  83]\n",
            " [ 41  25]\n",
            " [ 41 101]\n",
            " [ 52  20]\n",
            " [ 47  99]\n",
            " [ 53  23]\n",
            " [ 46  86]\n",
            " [ 57  18]\n",
            " [ 33 100]\n",
            " [ 45   2]\n",
            " [ 36  88]\n",
            " [ 41   2]\n",
            " [ 36  82]\n",
            " [ 68  40]\n",
            " [ 35  93]\n",
            " [ 23   6]\n",
            " [ 38 105]\n",
            " [ 60  30]\n",
            " [ 44  84]\n",
            " [ 51  23]\n",
            " [ 40 107]\n",
            " [ 44  31]\n",
            " [ 39  71]\n",
            " [ 48  15]\n",
            " [ 34  84]\n",
            " [ 44  12]\n",
            " [ 44 104]\n",
            " [ 63  15]\n",
            " [ 36  97]\n",
            " [ 70  17]\n",
            " [ 33  78]\n",
            " [ 71  16]\n",
            " [ 42 101]\n",
            " [ 45  36]\n",
            " [ 39  97]\n",
            " [ 56  17]\n",
            " [ 35  99]\n",
            " [ 50  44]\n",
            " [ 36 109]\n",
            " [ 65  27]\n",
            " [ 34  77]\n",
            " [ 50  20]\n",
            " [ 44  96]\n",
            " [ 41  26]\n",
            " [ 39  78]\n",
            " [ 40   9]\n",
            " [ 46 102]\n",
            " [ 57  18]\n",
            " [ 42  89]\n",
            " [ 54  32]\n",
            " [ 39  83]\n",
            " [ 39  21]\n",
            " [ 36  93]]\n"
          ]
        }
      ]
    },
    {
      "cell_type": "markdown",
      "source": [
        "# Optimal number of clusters via Elbow Method"
      ],
      "metadata": {
        "id": "BQpZRNDFjhWC"
      }
    },
    {
      "cell_type": "code",
      "source": [
        "from sklearn.cluster import KMeans\n",
        "wcss = []\n",
        "\n",
        "for i in range(1,11):\n",
        "  kmeans = KMeans(n_clusters= i, init= 'k-means++', random_state = 21)\n",
        "  kmeans.fit(X)\n",
        "  wcss.append(kmeans.inertia_)\n",
        "\n",
        "plt.plot(range(1,11), wcss)\n",
        "plt.title('WCSS via Elbow method')\n",
        "plt.xlabel('Number of clusters')\n",
        "plt.ylabel('WCSS Value')\n",
        "\n",
        "plt.show()"
      ],
      "metadata": {
        "colab": {
          "base_uri": "https://localhost:8080/",
          "height": 295
        },
        "id": "A2BI_30cjniI",
        "outputId": "256f6085-4f08-4f4d-fbfb-e9caa1a8b32a"
      },
      "execution_count": 4,
      "outputs": [
        {
          "output_type": "display_data",
          "data": {
            "text/plain": [
              "<Figure size 432x288 with 1 Axes>"
            ],
            "image/png": "[encoded data removed]"
          },
          "metadata": {
            "needs_background": "light"
          }
        }
      ]
    },
    {
      "cell_type": "markdown",
      "source": [
        "# K Means Model Training on Training set"
      ],
      "metadata": {
        "id": "VrfBH7cNjuaP"
      }
    },
    {
      "cell_type": "code",
      "source": [
        "kmeans = KMeans(n_clusters = 4, init = 'k-means++', random_state = 42)\n",
        "y_means = kmeans.fit_predict(X)"
      ],
      "metadata": {
        "id": "I3wV-Yqkj1nI"
      },
      "execution_count": 5,
      "outputs": []
    },
    {
      "cell_type": "code",
      "source": [
        "print(y_means)"
      ],
      "metadata": {
        "colab": {
          "base_uri": "https://localhost:8080/"
        },
        "id": "pyH1yWuPj484",
        "outputId": "0fb48ab6-1142-4310-b281-9b8b258bcdb0"
      },
      "execution_count": 6,
      "outputs": [
        {
          "output_type": "stream",
          "name": "stdout",
          "text": [
            "[0 2 1 2 1 2 1 0 1 2 1 2 1 2 1 2 1 2 1 2 3 2 3 0 1 0 3 0 0 0 3 0 0 3 3 3 3\n",
            " 3 0 3 3 0 3 3 3 0 3 3 0 0 3 3 3 3 3 0 3 0 0 3 3 0 3 3 0 3 3 0 0 3 3 0 3 0\n",
            " 0 0 3 0 3 0 0 3 3 0 3 0 3 3 3 3 3 0 0 0 0 0 3 3 3 3 0 0 0 2 0 2 3 2 1 2 1\n",
            " 2 0 2 1 2 1 2 1 2 1 2 0 2 1 2 3 2 1 2 1 2 1 2 1 2 1 2 1 2 3 2 1 2 1 2 1 2\n",
            " 1 0 1 2 1 2 1 2 1 2 1 2 1 2 1 2 3 2 1 2 1 2 1 2 1 2 1 2 1 2 1 2]\n"
          ]
        }
      ]
    },
    {
      "cell_type": "markdown",
      "source": [
        "# Visualizing Clusters"
      ],
      "metadata": {
        "id": "GwlWNsT0j921"
      }
    },
    {
      "cell_type": "code",
      "source": [
        "plt.scatter(X[y_means == 0, 0], X[y_means == 0, 1], s = 100, c = 'yellow', label = 'Cluster 1')\n",
        "plt.scatter(X[y_means == 1, 0], X[y_means == 1, 1], s = 100, c = 'green', label = 'Cluster 2')\n",
        "plt.scatter(X[y_means == 2, 0], X[y_means == 2, 1], s = 100, c = 'brown', label = 'Cluster 3')\n",
        "plt.scatter(X[y_means == 3, 0], X[y_means == 3, 1], s = 100, c = 'cyan', label = 'Cluster 4')\n",
        "plt.scatter(kmeans.cluster_centers_[:, 0], kmeans.cluster_centers_[:, 1], s = 300, c = 'black', label = 'Centroids')\n",
        "plt.title('Cluster of Amazon users')\n",
        "plt.xlabel('Age')\n",
        "plt.ylabel('Purchase Rating')\n",
        "plt.legend()\n",
        "plt.show()"
      ],
      "metadata": {
        "colab": {
          "base_uri": "https://localhost:8080/",
          "height": 295
        },
        "id": "kOfFErahkDcT",
        "outputId": "5964726b-7176-4808-88dc-ea74255b48e9"
      },
      "execution_count": 8,
      "outputs": [
        {
          "output_type": "display_data",
          "data": {
            "text/plain": [
              "<Figure size 432x288 with 1 Axes>"
            ],
            "image/png": "[encoded data removed]"
          },
          "metadata": {
            "needs_background": "light"
          }
        }
      ]
    }
  ]
}